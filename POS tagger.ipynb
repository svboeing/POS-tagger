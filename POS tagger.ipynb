{
 "cells": [
  {
   "cell_type": "code",
   "execution_count": 136,
   "metadata": {},
   "outputs": [],
   "source": [
    "import numpy as np\n",
    "import tensorflow as tf\n",
    "import re"
   ]
  },
  {
   "cell_type": "markdown",
   "metadata": {},
   "source": [
    "##### \n",
    "    ADJ: adjective\n",
    "    ADP: adposition\n",
    "    ADV: adverb\n",
    "    AUX: auxiliary\n",
    "    CCONJ: coordinating conjunction\n",
    "    DET: determiner\n",
    "    INTJ: interjection\n",
    "    NOUN: noun\n",
    "    NUM: numeral\n",
    "    PART: particle\n",
    "    PRON: pronoun\n",
    "    PROPN: proper noun\n",
    "    PUNCT: punctuation\n",
    "    SCONJ: subordinating conjunction\n",
    "    SYM: symbol\n",
    "    VERB: verb\n",
    "    X: other\n"
   ]
  },
  {
   "cell_type": "code",
   "execution_count": 137,
   "metadata": {},
   "outputs": [],
   "source": [
    "line =\"ADJ ADP ADV AUX CCONJ DET INTJ NOUN NUM PART PRON PROPN PUNCT SCONJ SYM VERB X\"\n",
    "tags_list = line.split(' ')\n",
    "line = \"A B C D E F G H I J K L M N O P Q R S T U V W X Y Z\"\n",
    "letters = line.split(' ')"
   ]
  },
  {
   "cell_type": "code",
   "execution_count": 155,
   "metadata": {},
   "outputs": [],
   "source": [
    "#extract words and embeddings from fasttext's output\n",
    "skip = False\n",
    "words = []\n",
    "vecs = []\n",
    "with open(\"/home/boeing/fasttext150\", \"r\") as f:\n",
    "    for line in f:\n",
    "        if skip:\n",
    "            info = line.split(' ')\n",
    "            words.append(info[0]) \n",
    "            c = []\n",
    "            for i in range(1, len(info)-1):\n",
    "                c.append(float(info[i]))\n",
    "            vecs.append(c)\n",
    "        else:\n",
    "            skip = True\n",
    "            \n",
    "with open('words', 'w') as f:\n",
    "    for word in words:\n",
    "        f.write(word+\"\\n\")\n",
    "\n",
    "npvecs = np.asarray(vecs)\n",
    "npvecs.dump('vecs')"
   ]
  },
  {
   "cell_type": "code",
   "execution_count": 109,
   "metadata": {
    "scrolled": true
   },
   "outputs": [],
   "source": [
    "#create words(text8), tags, suf, pref dictionaries. id = 0 is reserved\n",
    "word_id = {}\n",
    "tag_id = {}\n",
    "pref_id = {}\n",
    "#suf_id = {} - same as pref_id\n",
    "_id = 1\n",
    "counter = 0\n",
    "for word in words:\n",
    "    if word not in word_id:\n",
    "        word_id[word] = [_id, vecs[counter]]\n",
    "        _id += 1\n",
    "    counter += 1\n",
    "word_id[\"%NOWORD%\"] = [0, np.zeros(100)] #NOWORD is for no word. id = 0. embedding = 0 0 0 0 0 0..\n",
    "\n",
    "_id = 1\n",
    "for tag in tags_list:\n",
    "    tag_id[tag] = _id\n",
    "    _id += 1\n",
    "\n",
    "_id = 1\n",
    "for letter1 in letters:\n",
    "    for letter2 in letters:\n",
    "        pref_id[letter1.lower()+letter2.lower()]=_id\n",
    "        _id +=1"
   ]
  },
  {
   "cell_type": "code",
   "execution_count": 56,
   "metadata": {},
   "outputs": [
    {
     "name": "stdout",
     "output_type": "stream",
     "text": [
      "9752\n"
     ]
    }
   ],
   "source": [
    "#haha benis\n",
    "print(word_id['penis'])"
   ]
  },
  {
   "cell_type": "code",
   "execution_count": 43,
   "metadata": {},
   "outputs": [],
   "source": [
    "#extract words and their tags from file from universaltransitions.com\n",
    "tag_words = []\n",
    "tag_tags = []\n",
    "with open(\"/home/boeing/en_pud-ud-test.conllu\", \"r\") as f:\n",
    "    for line in f:\n",
    "        if line[0] == '#':\n",
    "            continue\n",
    "        splitted = line.split('\\t')\n",
    "        if len(splitted) <= 3:\n",
    "            continue\n",
    "        tag_words.append(splitted[1])\n",
    "        tag_tags.append(splitted[3])\n",
    "\n",
    "with open('tag_words', 'w') as f:\n",
    "    for word in tag_words:\n",
    "        f.write(word+\"\\n\")\n",
    "        \n",
    "with open('tag_tags', 'w') as f:\n",
    "    for tag in tag_tags:\n",
    "        f.write(tag+\"\\n\")"
   ]
  },
  {
   "cell_type": "code",
   "execution_count": 157,
   "metadata": {},
   "outputs": [],
   "source": [
    "#let's find out how many words have no embs.\n",
    "words_out_of_dict = []\n",
    "with open(\"words_out_of_dict\", \"w\") as f:\n",
    "    for word in tag_words:\n",
    "        if word not in ['.',',',':','\"', '\\'', '”', '“']:\n",
    "            if word.lower() not in words:\n",
    "                if word.lower() not in words_out_of_dict:\n",
    "                    f.write(word+\"\\n\")\n",
    "                    words_out_of_dict.append(word)"
   ]
  },
  {
   "cell_type": "code",
   "execution_count": 158,
   "metadata": {},
   "outputs": [
    {
     "name": "stdout",
     "output_type": "stream",
     "text": [
      "5727\n",
      "674\n"
     ]
    }
   ],
   "source": [
    "uniq = []\n",
    "for word in tag_words:\n",
    "    if word not in ['.',',',':','\"', '\\'', '”', '“']:\n",
    "        if word not in uniq:\n",
    "            uniq.append(word)\n",
    "print(len(uniq))\n",
    "print(len(words_out_of_dict))"
   ]
  },
  {
   "cell_type": "code",
   "execution_count": 77,
   "metadata": {},
   "outputs": [],
   "source": [
    "openedvecs = np.load('vecs')\n",
    "#print(openedvecs[0])"
   ]
  },
  {
   "cell_type": "code",
   "execution_count": 159,
   "metadata": {},
   "outputs": [
    {
     "name": "stdout",
     "output_type": "stream",
     "text": [
      "<tf.Variable 'suffixes_3:0' shape=(677, 10) dtype=float32_ref>\n"
     ]
    }
   ],
   "source": [
    "suf_init = tf.zeros(shape=[len(pref_id)+1,10], dtype=\"float32\")\n",
    "suf = tf.Variable(suf_init, name='suffixes') #нулевая по счету строка - нулевая. \n",
    "pref = tf.Variable(suf_init, name='prefixes') #нулевая по счету строка - нулевая.\n",
    "print(suf)"
   ]
  },
  {
   "cell_type": "code",
   "execution_count": 161,
   "metadata": {},
   "outputs": [
    {
     "name": "stdout",
     "output_type": "stream",
     "text": [
      "<tf.Variable 'tags_2:0' shape=(18, 100) dtype=float32_ref>\n"
     ]
    }
   ],
   "source": [
    "tag_init = tf.zeros(shape=[len(tag_id)+1,100], dtype = \"float32\")\n",
    "tags = tf.Variable(tag_init, name='tags') #нулевая по счету строка - нулевая.\n",
    "print(tags)"
   ]
  },
  {
   "cell_type": "code",
   "execution_count": 131,
   "metadata": {},
   "outputs": [],
   "source": [
    "#когда будем присваивать слову тэг, будем создавать словарь tags_learned \"номер слова в выборке\" - \"tag_id\".\n",
    "#тогда одному и тому же слову можно будет присваивать разные тэги! tag_id потом будет цепляться к вариаблу.\n",
    "\n",
    "def suf(word):\n",
    "    return word[-2]+word[-1]\n",
    "def pref(word):\n",
    "    return word[0]+word[1]\n",
    "#ОЧЕНЬ БЫДЛОКОД НО ЗАТО ПОНЯТНО И ВИДНО ЧТО ПРОИСХОДИТ В СУПЕРВЕКТОРЕ\n",
    "def supervector_maker(words, tags_learned, i):\n",
    "    if not (0<=i<=len(words)-1):\n",
    "        print(\"i out of range\")\n",
    "        return 0\n",
    "    \n",
    "    if i>2 and i<len(words)-3:\n",
    "\n",
    "        c = np.array(word_id[words[i-3]][0], tags_learned[i-3], pref_id[suf(words[i-3])],\\\n",
    "                     pref_id[pref(words[i-3])], \\\n",
    "                     word_id[words[i-2]][0], tags_learned[i-2], pref_id[suf(words[i-2])],\\\n",
    "                     pref_id[pref(words[i-2])], \\\n",
    "                     word_id[words[i-1]][0], tags_learned[i-1], pref_id[suf(words[i-1])],\\\n",
    "                     pref_id[pref(words[i-1])], \\\n",
    "                     word_id[words[i]][0], pref_id[suf(words[i])],\\\n",
    "                     pref_id[pref(words[i])], \\\n",
    "                     word_id[words[i+1]][0], pref_id[suf(words[i+1])],\\\n",
    "                     pref_id[pref(words[i+1])], \\\n",
    "                     word_id[words[i+2]][0], pref_id[suf(words[i+2])],\\\n",
    "                     pref_id[pref(words[i+2])], \\\n",
    "                     word_id[words[i+3]][0], pref_id[suf(words[i+3])],\\\n",
    "                     pref_id[pref(words[i+3])])\n",
    "    if i==0:\n",
    "        c = np.array(0, 0, 0, 0,\\\n",
    "                     0, 0, 0, 0,\\\n",
    "                     0, 0, 0, 0,\\\n",
    "                     word_id[words[i]][0], pref_id[suf(words[i])],\\\n",
    "                     pref_id[pref(words[i])], \\\n",
    "                     word_id[words[i+1]][0], pref_id[suf(words[i+1])],\\\n",
    "                     pref_id[pref(words[i+1])], \\\n",
    "                     word_id[words[i+2]][0], pref_id[suf(words[i+2])],\\\n",
    "                     pref_id[pref(words[i+2])], \\\n",
    "                     word_id[words[i+3]][0], pref_id[suf(words[i+3])],\\\n",
    "                     pref_id[pref(words[i+3])])\n",
    "    if i==1:\n",
    "        c = np.array(0, 0, 0, 0,\\\n",
    "                     0, 0, 0, 0,\\\n",
    "                     word_id[words[i-1]][0], tags_learned[i-1], pref_id[suf(words[i-1])],\\\n",
    "                     pref_id[pref(words[i-1])], \\\n",
    "                     word_id[words[i]][0], pref_id[suf(words[i])],\\\n",
    "                     pref_id[pref(words[i])], \\\n",
    "                     word_id[words[i+1]][0], pref_id[suf(words[i+1])],\\\n",
    "                     pref_id[pref(words[i+1])], \\\n",
    "                     word_id[words[i+2]][0], pref_id[suf(words[i+2])],\\\n",
    "                     pref_id[pref(words[i+2])], \\\n",
    "                     word_id[words[i+3]][0], pref_id[suf(words[i+3])],\\\n",
    "                     pref_id[pref(words[i+3])])\n",
    "    if i==2:\n",
    "        c = np.array(0, 0, 0, 0,\\\n",
    "                     word_id[words[i-2]][0], tags_learned[i-2], pref_id[suf(words[i-2])],\\\n",
    "                     pref_id[pref(words[i-2])], \\\n",
    "                     word_id[words[i-1]][0], tags_learned[i-1], pref_id[suf(words[i-1])],\\\n",
    "                     pref_id[pref(words[i-1])], \\\n",
    "                     word_id[words[i]][0], pref_id[suf(words[i])],\\\n",
    "                     pref_id[pref(words[i])], \\\n",
    "                     word_id[words[i+1]][0], pref_id[suf(words[i+1])],\\\n",
    "                     pref_id[pref(words[i+1])], \\\n",
    "                     word_id[words[i+2]][0], pref_id[suf(words[i+2])],\\\n",
    "                     pref_id[pref(words[i+2])], \\\n",
    "                     word_id[words[i+3]][0], pref_id[suf(words[i+3])],\\\n",
    "                     pref_id[pref(words[i+3])])\n",
    "    if i==len(words)-1:\n",
    "        c = np.array(word_id[words[i-3]][0], tags_learned[i-3], pref_id[suf(words[i-3])],\\\n",
    "                     pref_id[pref(words[i-3])], \\\n",
    "                     word_id[words[i-2]][0], tags_learned[i-2], pref_id[suf(words[i-2])],\\\n",
    "                     pref_id[pref(words[i-2])], \\\n",
    "                     word_id[words[i-1]][0], tags_learned[i-1], pref_id[suf(words[i-1])],\\\n",
    "                     pref_id[pref(words[i-1])], \\\n",
    "                     word_id[words[i]][0], pref_id[suf(words[i])],\\\n",
    "                     pref_id[pref(words[i])], \\\n",
    "                     0, 0, 0, \\\n",
    "                     0, 0, 0, \\\n",
    "                     0, 0, 0)\n",
    "    if i==len(words)-2:\n",
    "        c = np.array(word_id[words[i-3]][0], tags_learned[i-3], pref_id[suf(words[i-3])],\\\n",
    "                     pref_id[pref(words[i-3])], \\\n",
    "                     word_id[words[i-2]][0], tags_learned[i-2], pref_id[suf(words[i-2])],\\\n",
    "                     pref_id[pref(words[i-2])], \\\n",
    "                     word_id[words[i-1]][0], tags_learned[i-1], pref_id[suf(words[i-1])],\\\n",
    "                     pref_id[pref(words[i-1])], \\\n",
    "                     word_id[words[i]][0], pref_id[suf(words[i])],\\\n",
    "                     pref_id[pref(words[i])], \\\n",
    "                     word_id[words[i+1]][0], pref_id[suf(words[i+1])],\\\n",
    "                     pref_id[pref(words[i+1])], \\\n",
    "                     0, 0, 0, \\\n",
    "                     0, 0, 0)\n",
    "    if i==len(words)-3:\n",
    "        c = np.array(word_id[words[i-3]][0], tags_learned[i-3], pref_id[suf(words[i-3])],\\\n",
    "                     pref_id[pref(words[i-3])], \\\n",
    "                     word_id[words[i-2]][0], tags_learned[i-2], pref_id[suf(words[i-2])],\\\n",
    "                     pref_id[pref(words[i-2])], \\\n",
    "                     word_id[words[i-1]][0], tags_learned[i-1], pref_id[suf(words[i-1])],\\\n",
    "                     pref_id[pref(words[i-1])], \\\n",
    "                     word_id[words[i]][0], pref_id[suf(words[i])],\\\n",
    "                     pref_id[pref(words[i])], \\\n",
    "                     word_id[words[i+1]][0], pref_id[suf(words[i+1])],\\\n",
    "                     pref_id[pref(words[i+1])], \\\n",
    "                     word_id[words[i+2]][0], pref_id[suf(words[i+2])],\\\n",
    "                     pref_id[pref(words[i+2])], \\\n",
    "                     0, 0, 0)\n",
    "    return c"
   ]
  },
  {
   "cell_type": "code",
   "execution_count": 81,
   "metadata": {},
   "outputs": [],
   "source": [
    "# Parameters\n",
    "learning_rate = 0.1\n",
    "num_steps = 1000\n",
    "batch_size = 128\n",
    "display_step = 100\n",
    "\n",
    "# Network Parameters\n",
    "n_hidden_1 = 256 # 1st layer number of neurons\n",
    "n_hidden_2 = 256 # 2nd layer number of neurons\n",
    "num_input = 1140 # SUPERVECTOR: 3*4*220 + 4*3*120\n",
    "num_classes = 17 # 17 classes, but there are 18 tag id's.\n",
    "\n",
    "\n",
    "# Store layers weight & bias\n",
    "weights = {\n",
    "    'h1': tf.Variable(tf.random_normal([num_input, n_hidden_1])),\n",
    "    'h2': tf.Variable(tf.random_normal([n_hidden_1, n_hidden_2])),\n",
    "    'out': tf.Variable(tf.random_normal([n_hidden_2, 17])) #softmax here/17 classes\n",
    "}\n",
    "biases = {\n",
    "    'b1': tf.Variable(tf.random_normal([n_hidden_1])),\n",
    "    'b2': tf.Variable(tf.random_normal([n_hidden_2])),\n",
    "    'out': tf.Variable(tf.random_normal([17]))\n",
    "}"
   ]
  },
  {
   "cell_type": "code",
   "execution_count": null,
   "metadata": {},
   "outputs": [],
   "source": [
    "X = tf.placeholder(\"float\", [None, num_input]) #batches\n",
    "Y = tf.placeholder(\"int\", [None, num_classes]) #Ys: id of tags"
   ]
  },
  {
   "cell_type": "code",
   "execution_count": null,
   "metadata": {},
   "outputs": [],
   "source": [
    "def neural_net(x):\n",
    "    # Hidden fully connected layer with 256 neurons\n",
    "    layer_1 = tf.add(tf.matmul(x, weights['h1']), biases['b1'])\n",
    "    # Hidden fully connected layer with 256 neurons\n",
    "    layer_2 = tf.add(tf.matmul(layer_1, weights['h2']), biases['b2'])\n",
    "    # Output fully connected layer with a neuron for each class\n",
    "    out_layer = tf.matmul(layer_2, weights['out']) + biases['out']\n",
    "    return out_layer"
   ]
  },
  {
   "cell_type": "code",
   "execution_count": null,
   "metadata": {},
   "outputs": [],
   "source": [
    "# Construct model\n",
    "logits = neural_net(X)\n",
    "\n",
    "# Define loss and optimizer\n",
    "loss_op = tf.reduce_mean(tf.nn.softmax_cross_entropy_with_logits(\n",
    "    logits=logits, labels=Y))\n",
    "optimizer = tf.train.AdamOptimizer(learning_rate=learning_rate)\n",
    "train_op = optimizer.minimize(loss_op)\n",
    "\n",
    "# Evaluate model (with test logits, for dropout to be disabled)\n",
    "correct_pred = tf.equal(tf.argmax(logits, 1), tf.argmax(Y, 1))\n",
    "accuracy = tf.reduce_mean(tf.cast(correct_pred, tf.float32))\n",
    "\n",
    "# Initialize the variables (i.e. assign their default value)\n",
    "init = tf.global_variables_initializer()"
   ]
  },
  {
   "cell_type": "code",
   "execution_count": null,
   "metadata": {},
   "outputs": [],
   "source": [
    "# Start training\n",
    "with tf.Session() as sess:\n",
    "\n",
    "    # Run the initializer\n",
    "    sess.run(init)\n",
    "\n",
    "    for step in range(1, num_steps+1):\n",
    "        batch_x, batch_y = mnist.train.next_batch(batch_size)\n",
    "        # Run optimization op (backprop)\n",
    "        sess.run(train_op, feed_dict={X: batch_x, Y: batch_y})\n",
    "        if step % display_step == 0 or step == 1:\n",
    "            # Calculate batch loss and accuracy\n",
    "            loss, acc = sess.run([loss_op, accuracy], feed_dict={X: batch_x,\n",
    "                                                                 Y: batch_y})\n",
    "            print(\"Step \" + str(step) + \", Minibatch Loss= \" + \\\n",
    "                  \"{:.4f}\".format(loss) + \", Training Accuracy= \" + \\\n",
    "                  \"{:.3f}\".format(acc))\n",
    "\n",
    "    print(\"Optimization Finished!\")\n",
    "\n"
   ]
  }
 ],
 "metadata": {
  "kernelspec": {
   "display_name": "Python 3",
   "language": "python",
   "name": "python3"
  },
  "language_info": {
   "codemirror_mode": {
    "name": "ipython",
    "version": 3
   },
   "file_extension": ".py",
   "mimetype": "text/x-python",
   "name": "python",
   "nbconvert_exporter": "python",
   "pygments_lexer": "ipython3",
   "version": "3.5.2"
  }
 },
 "nbformat": 4,
 "nbformat_minor": 2
}
